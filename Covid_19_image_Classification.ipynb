{
  "nbformat": 4,
  "nbformat_minor": 0,
  "metadata": {
    "colab": {
      "name": "Covid 19 image Classification.ipynb",
      "provenance": [],
      "authorship_tag": "ABX9TyPtA32MkU2laqw4eBHKYGYQ",
      "include_colab_link": true
    },
    "kernelspec": {
      "name": "python3",
      "display_name": "Python 3"
    },
    "language_info": {
      "name": "python"
    }
  },
  "cells": [
    {
      "cell_type": "markdown",
      "metadata": {
        "id": "view-in-github",
        "colab_type": "text"
      },
      "source": [
        "<a href=\"https://colab.research.google.com/github/pk2971/COVID-19-Image-Classification/blob/main/Covid_19_image_Classification.ipynb\" target=\"_parent\"><img src=\"https://colab.research.google.com/assets/colab-badge.svg\" alt=\"Open In Colab\"/></a>"
      ]
    },
    {
      "cell_type": "code",
      "execution_count": 1,
      "metadata": {
        "id": "cPYKFCLwVdfa"
      },
      "outputs": [],
      "source": [
        "import csv\n",
        "import matplotlib"
      ]
    },
    {
      "cell_type": "code",
      "source": [
        ""
      ],
      "metadata": {
        "id": "1LbKaLePWOYW"
      },
      "execution_count": null,
      "outputs": []
    },
    {
      "cell_type": "markdown",
      "source": [
        "**COVID 19 image Classification**\n",
        "\n",
        "Author: Praharshita Kaithepalli(pk2971@rit.edu)\n",
        "\n",
        "Dataset found on Kaggle: https://www.kaggle.com/datasets/pranavraikokte/covid19-image-dataset\n",
        "\n",
        "As a person whose lungs have been effected by COVID-19, me and m family had to submit the lung scan to the doctor and wait for his response to confirm if it was COVID 19 or just a viral fever. This was also a time where the COVID 19 cases were blowing up in India and we have difficulties finding a doctors appointment and hospital beds. Using AI/ML we can find a way to easily classify if a patient has COVID 19 or not based upon the scanning images."
      ],
      "metadata": {
        "id": "d_yZLn-OWOkr"
      }
    }
  ]
}